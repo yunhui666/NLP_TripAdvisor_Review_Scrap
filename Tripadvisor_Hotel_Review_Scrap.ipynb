{
  "cells": [
    {
      "cell_type": "markdown",
      "metadata": {
        "id": "view-in-github",
        "colab_type": "text"
      },
      "source": [
        "<a href=\"https://colab.research.google.com/github/yunhui666/NLP_TripAdvisor_Review_Scrap/blob/main/Tripadvisor_Hotel_Review_Scrap.ipynb\" target=\"_parent\"><img src=\"https://colab.research.google.com/assets/colab-badge.svg\" alt=\"Open In Colab\"/></a>"
      ]
    },
    {
      "cell_type": "code",
      "execution_count": null,
      "id": "72994c44",
      "metadata": {
        "id": "72994c44"
      },
      "outputs": [],
      "source": [
        "import time\n",
        "import pandas as pd\n",
        "from bs4 import BeautifulSoup\n",
        "# pip install selenium\n",
        "from selenium import webdriver\n",
        "from selenium.common.exceptions import NoSuchElementException"
      ]
    },
    {
      "cell_type": "code",
      "execution_count": null,
      "id": "f4fccc8f",
      "metadata": {
        "id": "f4fccc8f"
      },
      "outputs": [],
      "source": [
        "# initialize our browser\n",
        "# need to change to your own path\n",
        "path = \"/Users/siang-linghsu/opt/anaconda3/share/jupyter/lab/chromedriver\"\n",
        "\n",
        "\n",
        "browser = webdriver.Chrome(path)\n",
        "\n",
        "# go the specific hotel page\n",
        "\n",
        "link = \"https://www.tripadvisor.in/Hotel_Review-g60763-d93437-Reviews-Hotel_Edison-New_York_City_New_York.html\"\n",
        "browser.get(link)\n",
        "\n",
        "time.sleep(2)\n"
      ]
    },
    {
      "cell_type": "code",
      "execution_count": null,
      "id": "35df9822",
      "metadata": {
        "id": "35df9822"
      },
      "outputs": [],
      "source": [
        "# a helper function to check if the button exists on the page\n",
        "def check_exists_by_xpath(xpath):\n",
        "    try:\n",
        "        browser.find_element_by_xpath(xpath)\n",
        "    except NoSuchElementException:\n",
        "        return False\n",
        "    return True"
      ]
    },
    {
      "cell_type": "code",
      "execution_count": null,
      "id": "be1ed25e",
      "metadata": {
        "id": "be1ed25e"
      },
      "outputs": [],
      "source": [
        "# let's make it a helper function too\n",
        "def click_read_more():\n",
        "    read_more_exists = check_exists_by_xpath('//span[@class=\"ui_icon caret-down zedZf\"]')\n",
        "   \n",
        "    if read_more_exists:\n",
        "        element = browser.find_element_by_xpath('//span[@class=\"ui_icon caret-down zedZf\"]')\n",
        "        browser.execute_script(\"arguments[0].click();\", element)\n",
        "        time.sleep(5)"
      ]
    },
    {
      "cell_type": "code",
      "execution_count": null,
      "id": "85a5a260",
      "metadata": {
        "id": "85a5a260"
      },
      "outputs": [],
      "source": [
        "# back to the first page:\n",
        "browser.find_element_by_xpath('//*[@id=\"component_15\"]/div/div[3]/div/div[8]/div/div/a[1]').click()\n"
      ]
    },
    {
      "cell_type": "code",
      "execution_count": null,
      "id": "28f90297",
      "metadata": {
        "id": "28f90297"
      },
      "outputs": [],
      "source": [
        "#change page number\n",
        "page_num = 10\n",
        "\n",
        "reviews_title = []\n",
        "reviews_text = []\n",
        "ratings = []\n",
        "authors= []\n",
        "stay_dates= []\n",
        "\n",
        "for i in range(0, page_num):\n",
        "    \n",
        "    # expand the reviews\n",
        "    click_read_more() \n",
        "    \n",
        "    \n",
        "    # parse to a soup\n",
        "    page_source = browser.page_source\n",
        "    soup = BeautifulSoup(page_source, 'lxml')\n",
        "    reviews_content = soup.find_all('div', class_='cWwQK MC R2 Gi z Z BB dXjiy')\n",
        "    time.sleep(3)\n",
        "    # find all find every reviews\n",
        "    \n",
        "    # extract the author, review_text and rating \n",
        "    for review in reviews_content:\n",
        "        \n",
        "        author= review.find('div',class_ = 'bcaHz').a.text\n",
        "        review_title = review.find('div',class_ = 'fpMxB MC _S b S6 H5 _a').text\n",
        "        review_text = review.find('div', class_='pIRBV _T').text\n",
        "        rating = review.find('div', class_='emWez F1').span['class'][1][-2]\n",
        "        stay_date = review.find('span',class_='euPKI _R Me S4 H3').text\n",
        "        # append to our accumulative lists\n",
        "        reviews_title.append(review_title)\n",
        "        reviews_text.append(review_text)\n",
        "        ratings.append(rating)\n",
        "        authors.append(author)\n",
        "        stay_dates.append(stay_date[14:])\n",
        "        \n",
        "    # use selenium to go to the next page\n",
        "    if (check_exists_by_xpath('//a[@class=\"ui_button nav next primary \"]')):\n",
        "        browser.find_element_by_xpath('//a[@class=\"ui_button nav next primary \"]').click()\n",
        "        time.sleep(2)\n"
      ]
    },
    {
      "cell_type": "code",
      "execution_count": null,
      "id": "fbcd72d4",
      "metadata": {
        "id": "fbcd72d4",
        "outputId": "2d81f5ee-5195-4f3e-818b-36c958970394"
      },
      "outputs": [
        {
          "name": "stdout",
          "output_type": "stream",
          "text": [
            "50\n",
            "50\n",
            "50\n",
            "50\n",
            "50\n"
          ]
        }
      ],
      "source": [
        "# to check the length of each attritube\n",
        "\n",
        "print(len(reviews_title))\n",
        "print(len(reviews_text))\n",
        "print(len(ratings))\n",
        "print(len(authors))\n",
        "print(len(stay_dates))\n",
        "\n",
        "\n"
      ]
    },
    {
      "cell_type": "code",
      "execution_count": null,
      "id": "9449c0bd",
      "metadata": {
        "id": "9449c0bd",
        "outputId": "08743959-925b-4620-8885-fd24644db2fe"
      },
      "outputs": [
        {
          "data": {
            "text/plain": [
              "(50, 5)"
            ]
          },
          "execution_count": 31,
          "metadata": {},
          "output_type": "execute_result"
        }
      ],
      "source": [
        "# store the data into a dataset\n",
        "data = {\n",
        "    'reviews_title':reviews_title,\n",
        "    'reviews_text' : reviews_text,\n",
        "    'ratings' :ratings,\n",
        "    'author':authors,\n",
        "    'stay_date':stay_dates\n",
        "}\n",
        "\n",
        "df = pd.DataFrame(data)\n",
        "\n",
        "# check the shape of our dataframe\n",
        "df.shape\n"
      ]
    },
    {
      "cell_type": "code",
      "execution_count": null,
      "id": "1c4b14f6",
      "metadata": {
        "id": "1c4b14f6",
        "outputId": "ac858b28-4eec-4c1d-a5ec-b8f91904fe4d"
      },
      "outputs": [
        {
          "data": {
            "text/html": [
              "<div>\n",
              "<style scoped>\n",
              "    .dataframe tbody tr th:only-of-type {\n",
              "        vertical-align: middle;\n",
              "    }\n",
              "\n",
              "    .dataframe tbody tr th {\n",
              "        vertical-align: top;\n",
              "    }\n",
              "\n",
              "    .dataframe thead th {\n",
              "        text-align: right;\n",
              "    }\n",
              "</style>\n",
              "<table border=\"1\" class=\"dataframe\">\n",
              "  <thead>\n",
              "    <tr style=\"text-align: right;\">\n",
              "      <th></th>\n",
              "      <th>reviews_title</th>\n",
              "      <th>reviews_text</th>\n",
              "      <th>ratings</th>\n",
              "      <th>author</th>\n",
              "      <th>stay_date</th>\n",
              "    </tr>\n",
              "  </thead>\n",
              "  <tbody>\n",
              "    <tr>\n",
              "      <th>0</th>\n",
              "      <td>Hotel Edison,  NYC</td>\n",
              "      <td>I would like to mention Rommel Gopez. I have s...</td>\n",
              "      <td>5</td>\n",
              "      <td>Gerry E</td>\n",
              "      <td>December 2021</td>\n",
              "    </tr>\n",
              "    <tr>\n",
              "      <th>1</th>\n",
              "      <td>Fantastic hotel in Times Square</td>\n",
              "      <td>This was our 2nd stay at The Edison and we wil...</td>\n",
              "      <td>5</td>\n",
              "      <td>Ian R</td>\n",
              "      <td>March 2020</td>\n",
              "    </tr>\n",
              "    <tr>\n",
              "      <th>2</th>\n",
              "      <td>Another great stay at Hotel Edison!</td>\n",
              "      <td>Our group of friends enjoyed our recent visit ...</td>\n",
              "      <td>5</td>\n",
              "      <td>Jean T</td>\n",
              "      <td>December 2021</td>\n",
              "    </tr>\n",
              "    <tr>\n",
              "      <th>3</th>\n",
              "      <td>Girls trip in NYC</td>\n",
              "      <td>The staff at Hotel Edison were amazing, from t...</td>\n",
              "      <td>5</td>\n",
              "      <td>KimC</td>\n",
              "      <td>December 2021</td>\n",
              "    </tr>\n",
              "    <tr>\n",
              "      <th>4</th>\n",
              "      <td>Scott's awesome team!</td>\n",
              "      <td>Big shout out from 4 ladies from Virginia!  Gr...</td>\n",
              "      <td>5</td>\n",
              "      <td>Martha M</td>\n",
              "      <td>December 2021</td>\n",
              "    </tr>\n",
              "  </tbody>\n",
              "</table>\n",
              "</div>"
            ],
            "text/plain": [
              "                         reviews_title  \\\n",
              "0                   Hotel Edison,  NYC   \n",
              "1      Fantastic hotel in Times Square   \n",
              "2  Another great stay at Hotel Edison!   \n",
              "3                    Girls trip in NYC   \n",
              "4                Scott's awesome team!   \n",
              "\n",
              "                                        reviews_text ratings    author  \\\n",
              "0  I would like to mention Rommel Gopez. I have s...       5   Gerry E   \n",
              "1  This was our 2nd stay at The Edison and we wil...       5     Ian R   \n",
              "2  Our group of friends enjoyed our recent visit ...       5    Jean T   \n",
              "3  The staff at Hotel Edison were amazing, from t...       5      KimC   \n",
              "4  Big shout out from 4 ladies from Virginia!  Gr...       5  Martha M   \n",
              "\n",
              "       stay_date  \n",
              "0  December 2021  \n",
              "1     March 2020  \n",
              "2  December 2021  \n",
              "3  December 2021  \n",
              "4  December 2021  "
            ]
          },
          "execution_count": 32,
          "metadata": {},
          "output_type": "execute_result"
        }
      ],
      "source": [
        "df.head()"
      ]
    },
    {
      "cell_type": "code",
      "execution_count": null,
      "id": "3b2db6fd",
      "metadata": {
        "id": "3b2db6fd"
      },
      "outputs": [],
      "source": [
        "# write to a csv file\n",
        "# need to change file name\n",
        "df.to_csv('hotel1.csv')"
      ]
    },
    {
      "cell_type": "code",
      "execution_count": null,
      "id": "422bed1f",
      "metadata": {
        "id": "422bed1f"
      },
      "outputs": [],
      "source": []
    }
  ],
  "metadata": {
    "kernelspec": {
      "display_name": "Python 3",
      "language": "python",
      "name": "python3"
    },
    "language_info": {
      "codemirror_mode": {
        "name": "ipython",
        "version": 3
      },
      "file_extension": ".py",
      "mimetype": "text/x-python",
      "name": "python",
      "nbconvert_exporter": "python",
      "pygments_lexer": "ipython3",
      "version": "3.8.8"
    },
    "colab": {
      "provenance": [],
      "include_colab_link": true
    }
  },
  "nbformat": 4,
  "nbformat_minor": 5
}